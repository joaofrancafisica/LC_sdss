{
 "cells": [
  {
   "cell_type": "code",
   "execution_count": 5,
   "metadata": {},
   "outputs": [],
   "source": [
    "import numpy as np\n",
    "from scipy.interpolate import interp1d"
   ]
  },
  {
   "cell_type": "code",
   "execution_count": 6,
   "metadata": {},
   "outputs": [],
   "source": [
    "X_ = np.linspace(-10, 50, 60 + 1)"
   ]
  },
  {
   "cell_type": "code",
   "execution_count": 7,
   "metadata": {},
   "outputs": [],
   "source": [
    "def einterpfunctions(band):\n",
    "    \n",
    "    file = open(\"/home/joao/Documentos/LC/integratedfunctions/\"+band+\".dat\")\n",
    "    lines = file.readlines()\n",
    "    file.close()\n",
    "\n",
    "    fun_x0 = []\n",
    "    fun_x1 = []\n",
    "    fun_x2 = []\n",
    "    \n",
    "    for line in lines:\n",
    "        if line.startswith('#'): continue\n",
    "        co=line.rstrip().replace('INDEF','Nan').split()\n",
    "\n",
    "        fun_x0.append(co[0])\n",
    "        fun_x1.append(co[1])\n",
    "        fun_x2.append(co[2])\n",
    "    \n",
    "    fun_x0 = np.array(fun_x0, dtype=float)\n",
    "    fun_x1 = np.array(fun_x1, dtype=float)\n",
    "    fun_x2 = np.array(fun_x2, dtype=float)\n",
    "    \n",
    "    #integrated flux functions\n",
    "    integf_m0 = interp1d(X_, fun_x0, kind='cubic')  \n",
    "    integf_m1 = interp1d(X_, fun_x1, kind='cubic')\n",
    "    integf_m2 = interp1d(X_, fun_x2, kind='cubic')\n",
    "    \n",
    "    return integf_m0, integf_m1, integf_m2\n"
   ]
  },
  {
   "cell_type": "code",
   "execution_count": null,
   "metadata": {},
   "outputs": [],
   "source": []
  }
 ],
 "metadata": {
  "kernelspec": {
   "display_name": "Python 3",
   "language": "python",
   "name": "python3"
  },
  "language_info": {
   "codemirror_mode": {
    "name": "ipython",
    "version": 3
   },
   "file_extension": ".py",
   "mimetype": "text/x-python",
   "name": "python",
   "nbconvert_exporter": "python",
   "pygments_lexer": "ipython3",
   "version": "3.6.9"
  }
 },
 "nbformat": 4,
 "nbformat_minor": 4
}
