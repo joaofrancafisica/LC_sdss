{
 "cells": [
  {
   "cell_type": "code",
   "execution_count": 1,
   "metadata": {},
   "outputs": [],
   "source": [
    "import sncosmo\n",
    "import glob\n",
    "import numpy as np\n",
    "from astropy.table import QTable\n",
    "import matplotlib.pyplot as plt\n",
    "import os.path \n",
    "from tabulate import tabulate #to export in table format"
   ]
  },
  {
   "cell_type": "code",
   "execution_count": 2,
   "metadata": {},
   "outputs": [],
   "source": [
    "exp = sncosmo.SALT2Source(modeldir=None, m0file='med.dat', m1file='sec_mom.dat', clfile='salt2_color_correction.dat', cdfile='salt2_color_dispersion.dat', errscalefile='salt2_lc_dispersion_scaling.dat', lcrv00file='salt2_lc_relative_variance_0.dat', lcrv11file='salt2_lc_relative_variance_1.dat', lcrv01file='salt2_lc_relative_covariance_01.dat', name=None, version=None)\n",
    "PCA = sncosmo.SALT2Source(modeldir=None, m0file='M0.dat', m1file='M1.dat', clfile='salt2_color_correction.dat', cdfile='salt2_color_dispersion.dat', errscalefile='salt2_lc_dispersion_scaling.dat', lcrv00file='salt2_lc_relative_variance_0.dat', lcrv11file='salt2_lc_relative_variance_1.dat', lcrv01file='salt2_lc_relative_covariance_01.dat', name=None, version=None)"
   ]
  },
  {
   "cell_type": "code",
   "execution_count": 3,
   "metadata": {},
   "outputs": [],
   "source": [
    "names = glob.glob(\"*.txt\")"
   ]
  },
  {
   "cell_type": "code",
   "execution_count": 4,
   "metadata": {},
   "outputs": [],
   "source": [
    "table = []"
   ]
  },
  {
   "cell_type": "code",
   "execution_count": 5,
   "metadata": {},
   "outputs": [],
   "source": [
    "#chi_quadsalt2 = []\n",
    "#chi_quadPCA= []\n",
    "#chi_quad = []"
   ]
  },
  {
   "cell_type": "code",
   "execution_count": 6,
   "metadata": {
    "scrolled": true
   },
   "outputs": [
    {
     "name": "stdout",
     "output_type": "stream",
     "text": [
      "1580.txt\n"
     ]
    },
    {
     "name": "stderr",
     "output_type": "stream",
     "text": [
      "/home/joao/.local/lib/python3.8/site-packages/sncosmo/fitting.py:154: RuntimeWarning: Dropping following bands from data: sdssg(out of model wavelength range)\n",
      "  warnings.warn(\"Dropping following bands from data: \" +\n"
     ]
    },
    {
     "name": "stdout",
     "output_type": "stream",
     "text": [
      "762.txt\n"
     ]
    },
    {
     "name": "stderr",
     "output_type": "stream",
     "text": [
      "/home/joao/.local/lib/python3.8/site-packages/sncosmo/fitting.py:154: RuntimeWarning: Dropping following bands from data: sdssg(out of model wavelength range)\n",
      "  warnings.warn(\"Dropping following bands from data: \" +\n"
     ]
    },
    {
     "name": "stdout",
     "output_type": "stream",
     "text": [
      "3256.txt\n",
      "2635.txt\n",
      "3331.txt\n",
      "6295.txt\n",
      "6924.txt\n",
      "3199.txt\n",
      "2916.txt\n",
      "5957.txt\n",
      "5391.txt\n",
      "7876.txt\n",
      "5736.txt\n",
      "1032.txt\n",
      "2422.txt\n",
      "2992.txt\n",
      "6108.txt\n",
      "6249.txt\n",
      "6304.txt\n",
      "8707.txt\n",
      "5751.txt\n",
      "6852.txt\n",
      "1241.txt\n",
      "6057.txt\n",
      "5550.txt\n",
      "11320.txt\n",
      "5944.txt\n",
      "2440.txt\n",
      "2789.txt\n",
      "4064.txt\n",
      "4000.txt\n",
      "6558.txt\n",
      "1253.txt\n",
      "6315.txt\n",
      "3080.txt\n",
      "6137.txt\n",
      "6962.txt\n",
      "5916.txt\n",
      "2533.txt\n",
      "3592.txt\n",
      "2246.txt\n",
      "2689.txt\n",
      "2943.txt\n",
      "5395.txt\n",
      "6406.txt\n",
      "5103.txt\n",
      "1371.txt\n",
      "3452.txt\n",
      "4241.txt\n",
      "2165.txt\n",
      "4524.txt\n",
      "3087.txt\n",
      "2308.txt\n",
      "2330.txt\n",
      "2031.txt\n",
      "6968.txt\n",
      "6649.txt\n",
      "3317.txt\n",
      "3901.txt\n",
      "5635.txt\n",
      "6196.txt\n",
      "1316.txt\n"
     ]
    }
   ],
   "source": [
    "for i in range(0, len(names)):\n",
    "    \n",
    "    print(names[i])\n",
    "    sn = sncosmo.read_lc(names[i])\n",
    "    \n",
    "    data = QTable(sn,  names=(\"time\", \"band\", \"flux\", \"fluxerr\", \"zp\", \"zpsys\", \"redshift\"))\n",
    "    \n",
    "    model = sncosmo.Model(source = exp)\n",
    "    model.set(z = float(data[0][6]))\n",
    "    \n",
    "    modelPCA = sncosmo.Model(source = PCA)\n",
    "    modelPCA.set(z = float(data[0][6]))\n",
    "    \n",
    "    modelsalt2 = sncosmo.Model(source = 'salt2')\n",
    "    modelsalt2.set(z = float(data[0][6]))\n",
    "    \n",
    "    #print(data[0][6])\n",
    "    result, fitted_model = sncosmo.fit_lc(data, model, ['t0', 'x0','x1','c'])\n",
    "    resultPCA, fitted_modelPCA = sncosmo.fit_lc(data, modelPCA, ['t0', 'x0','x1','c'])\n",
    "    resultsalt2, fitted_modelsalt2 = sncosmo.fit_lc(data, modelsalt2, ['t0', 'x0','x1','c'])\n",
    "\n",
    "    table.append((resultsalt2.parameters[0], resultsalt2.parameters[1], resultsalt2.errors['t0'], resultsalt2.parameters[2], resultsalt2.errors['x0'], resultsalt2.parameters[3], resultsalt2.errors['x1'], resultsalt2.parameters[4], resultsalt2.errors['c'], resultsalt2.chisq/resultsalt2.ndof, \"salt2\"))\n",
    "    table.append((result.parameters[0], result.parameters[1], result.errors['t0'], result.parameters[2], result.errors['x0'], result.parameters[3], result.errors['x1'], result.parameters[4], result.errors['c'], result.chisq/result.ndof, \"exp\"))\n",
    "    table.append((resultPCA.parameters[0], resultPCA.parameters[1], resultPCA.errors['t0'], resultPCA.parameters[2], resultPCA.errors['x0'], resultPCA.parameters[3], resultPCA.errors['x1'], resultPCA.parameters[4], resultPCA.errors['c'], resultPCA.chisq/resultPCA.ndof, \"expPCA\"))\n",
    "    \n",
    "    #chi_quad.append(result.chisq/result.ndof)\n",
    "    #chi_quadPCA.append(resultPCA.chisq/resultPCA.ndof)\n",
    "    #chi_quadsalt2.append(resultsalt2.chisq/resultsalt2.ndof)\n",
    "    "
   ]
  },
  {
   "cell_type": "code",
   "execution_count": 7,
   "metadata": {},
   "outputs": [],
   "source": [
    "#histexp = []\n",
    "#histPCA = []\n",
    "#histsalt2 = []"
   ]
  },
  {
   "cell_type": "code",
   "execution_count": 8,
   "metadata": {},
   "outputs": [
    {
     "data": {
      "text/plain": [
       "'\\nfor i in range(0,len(chi_quad)):\\n    \\n    if i > 2:\\n        \\n        if chi_quadsalt2[i] < 10:\\n            \\n            histexp.append(chi_quad[i])\\n            histPCA.append(chi_quadPCA[i])\\n            histsalt2.append(chi_quadsalt2[i])\\n'"
      ]
     },
     "execution_count": 8,
     "metadata": {},
     "output_type": "execute_result"
    }
   ],
   "source": [
    "'''\n",
    "for i in range(0,len(chi_quad)):\n",
    "    \n",
    "    if i > 2:\n",
    "        \n",
    "        if chi_quadsalt2[i] < 10:\n",
    "            \n",
    "            histexp.append(chi_quad[i])\n",
    "            histPCA.append(chi_quadPCA[i])\n",
    "            histsalt2.append(chi_quadsalt2[i])\n",
    "'''          "
   ]
  },
  {
   "cell_type": "code",
   "execution_count": 9,
   "metadata": {},
   "outputs": [
    {
     "data": {
      "text/plain": [
       "'\\nplt.hist(histexp, bins=10, histtype = \"bar\", color = \\'r\\', alpha = 0.5, label=\\'Nosso modelo\\')\\nplt.hist(histPCA, bins=10, histtype = \"bar\", color = \\'k\\', alpha = 0.5, label=\\'Nosso modelo c/ PCA\\')\\nplt.hist(histsalt2, bins=10, histtype = \"bar\", color = \\'b\\', alpha = 0.5, label=\\'salt2\\')\\nplt.legend(loc=\"upper right\")\\nplt.xlabel(\\'chiquad/dof\\')\\nplt.ylabel(\\'N\\')\\nplt.show()\\n'"
      ]
     },
     "execution_count": 9,
     "metadata": {},
     "output_type": "execute_result"
    }
   ],
   "source": [
    "#matplotlib notebook\n",
    "'''\n",
    "plt.hist(histexp, bins=10, histtype = \"bar\", color = 'r', alpha = 0.5, label='Nosso modelo')\n",
    "plt.hist(histPCA, bins=10, histtype = \"bar\", color = 'k', alpha = 0.5, label='Nosso modelo c/ PCA')\n",
    "plt.hist(histsalt2, bins=10, histtype = \"bar\", color = 'b', alpha = 0.5, label='salt2')\n",
    "plt.legend(loc=\"upper right\")\n",
    "plt.xlabel('chiquad/dof')\n",
    "plt.ylabel('N')\n",
    "plt.show()\n",
    "'''"
   ]
  },
  {
   "cell_type": "code",
   "execution_count": 10,
   "metadata": {},
   "outputs": [],
   "source": [
    "save_path = '/home/joao/Documentos/lcf_sdss/'"
   ]
  },
  {
   "cell_type": "code",
   "execution_count": 11,
   "metadata": {},
   "outputs": [],
   "source": [
    "completeName = os.path.join(save_path,\"Dados.dat\")      \n",
    "\n",
    "header = '#' + 'redshift    t0     t0err     x0      x0err      x1      x1err      c         chiquad/dof      modelo'\n",
    "\n",
    "f = open(completeName, 'w')               \n",
    "f.write(header + \"\\n\")\n",
    "f.write(tabulate(table, tablefmt=\"plain\"))\n",
    "f.close()\n"
   ]
  },
  {
   "cell_type": "code",
   "execution_count": 13,
   "metadata": {},
   "outputs": [
    {
     "data": {
      "text/plain": [
       "      success: True\n",
       "      message: 'Minimization exited successfully.'\n",
       "        ncall: 267\n",
       "        chisq: 45.223075816448336\n",
       "         ndof: 10\n",
       "  param_names: ['z', 't0', 'x0', 'x1', 'c']\n",
       "   parameters: array([ 2.16600000e-01,  5.36183281e+04,  2.73675459e+01, -4.50511674e-01,\n",
       "       -6.88597586e-01])\n",
       " vparam_names: ['t0', 'x0', 'x1', 'c']\n",
       "   covariance: array([[ 6.49008568e+00, -2.13589117e+01,  7.37675810e-01,\n",
       "         2.46090136e-01],\n",
       "       [-2.13589117e+01,  9.52261318e+01, -3.42994607e+00,\n",
       "        -1.22191176e+00],\n",
       "       [ 7.37675810e-01, -3.42994607e+00,  1.29041326e-01,\n",
       "         4.20555893e-02],\n",
       "       [ 2.46090136e-01, -1.22191176e+00,  4.20555893e-02,\n",
       "         1.80245756e-02]])\n",
       "       errors: OrderedDict([('t0', 2.5465764457949263), ('x0', 9.758387764032166), ('x1', 0.35922322556684483), ('c', 0.13425563521249265)])\n",
       "         nfit: 1\n",
       "    data_mask: array([False, False, False, False, False, False,  True,  True,  True,\n",
       "        True,  True,  True,  True,  True,  True,  True,  True,  True,\n",
       "        True,  True])"
      ]
     },
     "execution_count": 13,
     "metadata": {},
     "output_type": "execute_result"
    }
   ],
   "source": [
    "result"
   ]
  },
  {
   "cell_type": "code",
   "execution_count": 22,
   "metadata": {},
   "outputs": [
    {
     "data": {
      "text/plain": [
       "2.5465764457949263"
      ]
     },
     "execution_count": 22,
     "metadata": {},
     "output_type": "execute_result"
    }
   ],
   "source": [
    "result.errors['t0']"
   ]
  },
  {
   "cell_type": "code",
   "execution_count": null,
   "metadata": {},
   "outputs": [],
   "source": []
  }
 ],
 "metadata": {
  "kernelspec": {
   "display_name": "Python 3",
   "language": "python",
   "name": "python3"
  },
  "language_info": {
   "codemirror_mode": {
    "name": "ipython",
    "version": 3
   },
   "file_extension": ".py",
   "mimetype": "text/x-python",
   "name": "python",
   "nbconvert_exporter": "python",
   "pygments_lexer": "ipython3",
   "version": "3.8.2"
  }
 },
 "nbformat": 4,
 "nbformat_minor": 4
}
