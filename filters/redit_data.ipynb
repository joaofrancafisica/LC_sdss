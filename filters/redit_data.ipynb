{
 "cells": [
  {
   "cell_type": "code",
   "execution_count": 1,
   "metadata": {},
   "outputs": [],
   "source": [
    "import numpy as np\n",
    "import matplotlib.pyplot as plt\n",
    "import os.path\n",
    "from tabulate import tabulate #to export in table format"
   ]
  },
  {
   "cell_type": "code",
   "execution_count": 2,
   "metadata": {},
   "outputs": [],
   "source": [
    "#filter lists\n",
    "y_filter = []\n",
    "z_filter = []\n",
    "\n",
    "#reading the file\n",
    "file = open(\"Sloan_i(1).txt\")\n",
    "lines = file.readlines()\n",
    "file.close()\n",
    "\n",
    "for line in lines:\n",
    "    if line.startswith('#'): continue\n",
    "    co=line.rstrip().replace('INDEF','Nan').split()\n",
    "\n",
    "    y_filter.append(co[0])\n",
    "    z_filter.append(co[1])\n",
    "\n",
    "#converting to float\n",
    "y_filter = np.array(y_filter, dtype=float)\n",
    "z_filter = np.array(z_filter, dtype=float)"
   ]
  },
  {
   "cell_type": "code",
   "execution_count": 3,
   "metadata": {},
   "outputs": [
    {
     "data": {
      "image/png": "[encoded data removed]",
      "text/plain": [
       "<Figure size 432x288 with 1 Axes>"
      ]
     },
     "metadata": {
      "needs_background": "light"
     },
     "output_type": "display_data"
    }
   ],
   "source": [
    "plt.plot(y_filter,z_filter)\n",
    "plt.show()"
   ]
  },
  {
   "cell_type": "code",
   "execution_count": 4,
   "metadata": {},
   "outputs": [],
   "source": [
    "for i in range(0,len(y_filter)):\n",
    "    #unidade\n",
    "    y_filter[i] = y_filter[i]*10\n",
    "    z_filter[i] = z_filter[i]/100"
   ]
  },
  {
   "cell_type": "code",
   "execution_count": 5,
   "metadata": {},
   "outputs": [],
   "source": [
    "y = []\n",
    "z = []"
   ]
  },
  {
   "cell_type": "code",
   "execution_count": 6,
   "metadata": {},
   "outputs": [],
   "source": [
    "i = len(y_filter) - 1\n",
    "while i > 0:\n",
    "    \n",
    "    if z_filter[i] > 0.001:\n",
    "        \n",
    "        y.append(y_filter[i])\n",
    "        z.append(z_filter[i])\n",
    "        \n",
    "        \n",
    "    i -= 1"
   ]
  },
  {
   "cell_type": "code",
   "execution_count": 7,
   "metadata": {},
   "outputs": [
    {
     "data": {
      "image/png": "[encoded data removed]",
      "text/plain": [
       "<Figure size 432x288 with 1 Axes>"
      ]
     },
     "metadata": {
      "needs_background": "light"
     },
     "output_type": "display_data"
    }
   ],
   "source": [
    "plt.plot(y,z)\n",
    "plt.show()"
   ]
  },
  {
   "cell_type": "code",
   "execution_count": 8,
   "metadata": {},
   "outputs": [],
   "source": [
    "save_path = \"/home/joao/Documentos/LC_sdss/filters/\""
   ]
  },
  {
   "cell_type": "code",
   "execution_count": 9,
   "metadata": {},
   "outputs": [],
   "source": [
    "\n",
    "table = []\n",
    "for l in range(0,len(y)):\n",
    "    table.append((y[l], z[l]))\n"
   ]
  },
  {
   "cell_type": "code",
   "execution_count": 10,
   "metadata": {},
   "outputs": [],
   "source": [
    "name_of_file = \"Sloan_r\"\n",
    "\n",
    "completeName = os.path.join(save_path, name_of_file+\".dat\")      \n",
    "\n",
    "f = open(completeName, 'w')               \n",
    "#f.write(header + \"\\n\")\n",
    "'''\n",
    "for i in range(0,len(fun_x0)):\n",
    "    \n",
    "    f.write(str(fun_x0[i])+ \"\\n\")\n",
    "'''\n",
    "f.write(tabulate(table, tablefmt=\"plain\"))\n",
    "f.close()"
   ]
  },
  {
   "cell_type": "code",
   "execution_count": null,
   "metadata": {},
   "outputs": [],
   "source": []
  }
 ],
 "metadata": {
  "kernelspec": {
   "display_name": "Python 3",
   "language": "python",
   "name": "python3"
  },
  "language_info": {
   "codemirror_mode": {
    "name": "ipython",
    "version": 3
   },
   "file_extension": ".py",
   "mimetype": "text/x-python",
   "name": "python",
   "nbconvert_exporter": "python",
   "pygments_lexer": "ipython3",
   "version": "3.8.2"
  }
 },
 "nbformat": 4,
 "nbformat_minor": 4
}
