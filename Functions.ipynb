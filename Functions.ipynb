{
 "cells": [
  {
   "cell_type": "code",
   "execution_count": 1,
   "metadata": {},
   "outputs": [],
   "source": [
    "import numpy as np\n",
    "import scipy.integrate as integrate\n",
    "from scipy.interpolate import interp1d\n",
    "import scipy.optimize as optimize\n",
    "import sncosmo\n",
    "import os.path\n",
    "from tabulate import tabulate #to export in table format"
   ]
  },
  {
   "cell_type": "markdown",
   "metadata": {},
   "source": [
    "## Path of the filters and the zeropoint associated"
   ]
  },
  {
   "cell_type": "code",
   "execution_count": 2,
   "metadata": {},
   "outputs": [],
   "source": [
    "filters = [[\"B_CSP2_tel_ccd_atm_ext_1.2.dat\", 14.529], [\"g_CSP2_tel_ccd_atm_ext_1.2.dat\", 15.271], [\"i_CSP2_tel_ccd_atm_ext_1.2.dat\", 14.767], [\"r_CSP2_tel_ccd_atm_ext_1.2.dat\", 14.975], [\"u_CSP2_tel_ccd_atm_ext_1.2.dat\", 13.163], [\"V_CSP2_tel_ccd_atm_ext_1.2.dat\", 14.571]]"
   ]
  },
  {
   "cell_type": "markdown",
   "metadata": {},
   "source": [
    "## Magnitude system"
   ]
  },
  {
   "cell_type": "code",
   "execution_count": 3,
   "metadata": {},
   "outputs": [],
   "source": [
    "csp = sncosmo.get_magsystem('csp')"
   ]
  },
  {
   "cell_type": "markdown",
   "metadata": {},
   "source": [
    "## Time grid"
   ]
  },
  {
   "cell_type": "code",
   "execution_count": 4,
   "metadata": {},
   "outputs": [],
   "source": [
    "x_gr = np.linspace(-10, 50, 60 + 1)"
   ]
  },
  {
   "cell_type": "markdown",
   "metadata": {},
   "source": [
    "## Templates "
   ]
  },
  {
   "cell_type": "code",
   "execution_count": 5,
   "metadata": {},
   "outputs": [],
   "source": [
    "#time wavelength and flux lists\n",
    "x_m0 = []\n",
    "y_m0 = []\n",
    "z_m0 = []"
   ]
  },
  {
   "cell_type": "code",
   "execution_count": 6,
   "metadata": {},
   "outputs": [],
   "source": [
    "#reading the file\n",
    "file = open(\"med_salt2.dat\")\n",
    "lines = file.readlines()\n",
    "file.close()\n",
    "\n",
    "for line in lines:\n",
    "    if line.startswith('#'): continue\n",
    "    co=line.rstrip().replace('INDEF','Nan').split()\n",
    "\n",
    "    x_m0.append(co[0])\n",
    "    y_m0.append(co[1])\n",
    "    z_m0.append(co[2])\n",
    "\n",
    "#converting to float\n",
    "x_m0 = [float(i) for i in x_m0]\n",
    "y_m0 = [float(i) for i in y_m0]\n",
    "z_m0 = [float(i) for i in z_m0]"
   ]
  },
  {
   "cell_type": "code",
   "execution_count": 7,
   "metadata": {},
   "outputs": [],
   "source": [
    "#time wavelength and flux lists\n",
    "x_m1 = []\n",
    "y_m1 = []\n",
    "z_m1 = []"
   ]
  },
  {
   "cell_type": "code",
   "execution_count": 8,
   "metadata": {},
   "outputs": [],
   "source": [
    "#reading the file\n",
    "file = open(\"var_salt2.dat\")\n",
    "lines = file.readlines()\n",
    "file.close()\n",
    "\n",
    "for line in lines:\n",
    "    if line.startswith('#'): continue\n",
    "    co=line.rstrip().replace('INDEF','Nan').split()\n",
    "\n",
    "    x_m1.append(co[0])\n",
    "    y_m1.append(co[1])\n",
    "    z_m1.append(co[2])\n",
    "\n",
    "#converting to float\n",
    "x_m1 = [float(i) for i in x_m1]\n",
    "y_m1 = [float(i) for i in y_m1]\n",
    "z_m1 = [float(i) for i in z_m1]"
   ]
  },
  {
   "cell_type": "code",
   "execution_count": 9,
   "metadata": {},
   "outputs": [],
   "source": [
    "#time wavelength and flux lists\n",
    "x_m2 = []\n",
    "y_m2 = []\n",
    "z_m2 = []"
   ]
  },
  {
   "cell_type": "code",
   "execution_count": 10,
   "metadata": {},
   "outputs": [],
   "source": [
    "#reading the file\n",
    "file = open(\"M2.dat\")\n",
    "lines = file.readlines()\n",
    "file.close()\n",
    "\n",
    "for line in lines:\n",
    "    if line.startswith('#'): continue\n",
    "    co=line.rstrip().replace('INDEF','Nan').split()\n",
    "\n",
    "    x_m2.append(co[0])\n",
    "    y_m2.append(co[1])\n",
    "    z_m2.append(co[2])\n",
    "\n",
    "#converting to float\n",
    "x_m2 = [float(i) for i in x_m2]\n",
    "y_m2 = [float(i) for i in y_m2]\n",
    "z_m2 = [float(i) for i in z_m2]"
   ]
  },
  {
   "cell_type": "markdown",
   "metadata": {},
   "source": [
    "## Filter functions"
   ]
  },
  {
   "cell_type": "code",
   "execution_count": 11,
   "metadata": {},
   "outputs": [],
   "source": [
    "#B-band filter\n",
    "def bandB(path):\n",
    "    #receive the filter path on the folder\n",
    "    \n",
    "    #filter lists\n",
    "    y_filter = []\n",
    "    z_filter = []\n",
    "    \n",
    "    #reading the file\n",
    "    file = open(\"/home/joao/Documentos/LC/filters/\"+path)\n",
    "    lines = file.readlines()\n",
    "    file.close()\n",
    "\n",
    "    for line in lines:\n",
    "        if line.startswith('#'): continue\n",
    "        co=line.rstrip().replace('INDEF','Nan').split()\n",
    "\n",
    "        y_filter.append(co[0])\n",
    "        z_filter.append(co[1])\n",
    "\n",
    "    #converting to float\n",
    "    y_filter = np.array(y_filter, dtype=float)\n",
    "    z_filter = np.array(z_filter, dtype=float)\n",
    "\n",
    "    #return a list with the interpolated filter function, minimum and maximum range values of the filter\n",
    "    return interp1d(y_filter, z_filter, kind='cubic'), min(y_filter), max(y_filter)"
   ]
  },
  {
   "cell_type": "code",
   "execution_count": 12,
   "metadata": {},
   "outputs": [],
   "source": [
    "#g-band filter\n",
    "def bandg(path):\n",
    "    #receive the filter path on the folder\n",
    "    \n",
    "    #filter lists\n",
    "    y_filter = []\n",
    "    z_filter = []\n",
    "    \n",
    "    #reading the file\n",
    "    file = open(\"/home/joao/Documentos/LC/filters/\"+path)\n",
    "    lines = file.readlines()\n",
    "    file.close()\n",
    "\n",
    "    for line in lines:\n",
    "        if line.startswith('#'): continue\n",
    "        co=line.rstrip().replace('INDEF','Nan').split()\n",
    "\n",
    "        y_filter.append(co[0])\n",
    "        z_filter.append(co[1])\n",
    "    \n",
    "    #converting to float\n",
    "    y_filter = np.array(y_filter, dtype=float)\n",
    "    z_filter = np.array(z_filter, dtype=float)\n",
    "\n",
    "    #return a list with the interpolated filter function, minimum and maximum range values of the filter\n",
    "    return interp1d(y_filter, z_filter, kind='cubic'), min(y_filter), max(y_filter)"
   ]
  },
  {
   "cell_type": "code",
   "execution_count": 13,
   "metadata": {},
   "outputs": [],
   "source": [
    "#i-band filter\n",
    "def bandi(path):\n",
    "    #receive the filter path on the folder\n",
    "    \n",
    "    #filter lists\n",
    "    y_filter = []\n",
    "    z_filter = []\n",
    "\n",
    "    #reading the file\n",
    "    file = open(\"/home/joao/Documentos/LC/filters/\"+path)\n",
    "    lines = file.readlines()\n",
    "    file.close()\n",
    "\n",
    "    for line in lines:\n",
    "        if line.startswith('#'): continue\n",
    "        co=line.rstrip().replace('INDEF','Nan').split()\n",
    "\n",
    "        y_filter.append(co[0])\n",
    "        z_filter.append(co[1])\n",
    "\n",
    "    #converting to float\n",
    "    y_filter = np.array(y_filter, dtype=float)\n",
    "    z_filter = np.array(z_filter, dtype=float)\n",
    "\n",
    "    #return a list with the interpolated filter function, minimum and maximum range values of the filter\n",
    "    return interp1d(y_filter, z_filter, kind='cubic'), min(y_filter), max(y_filter)\n"
   ]
  },
  {
   "cell_type": "code",
   "execution_count": 14,
   "metadata": {},
   "outputs": [],
   "source": [
    "#r-band filter\n",
    "def bandr(path):\n",
    "    #receive the filter path on the folder\n",
    "    \n",
    "    #filter lists\n",
    "    y_filter = []\n",
    "    z_filter = []\n",
    "\n",
    "    #reading the file\n",
    "    file = open(\"/home/joao/Documentos/LC/filters/\"+path)\n",
    "    lines = file.readlines()\n",
    "    file.close()\n",
    "\n",
    "    for line in lines:\n",
    "        if line.startswith('#'): continue\n",
    "        co=line.rstrip().replace('INDEF','Nan').split()\n",
    "\n",
    "        y_filter.append(co[0])\n",
    "        z_filter.append(co[1])\n",
    "\n",
    "    #converting to float\n",
    "    y_filter = np.array(y_filter, dtype=float)\n",
    "    z_filter = np.array(z_filter, dtype=float)\n",
    "\n",
    "    #return a list with the interpolated filter function, minimum and maximum range values of the filter\n",
    "    return interp1d(y_filter, z_filter, kind='cubic'), min(y_filter), max(y_filter)\n"
   ]
  },
  {
   "cell_type": "code",
   "execution_count": 15,
   "metadata": {},
   "outputs": [],
   "source": [
    "#u-band filter\n",
    "def bandu(path):\n",
    "    #receive the filter path on the folder\n",
    "    \n",
    "    #filter lists\n",
    "    y_filter = []\n",
    "    z_filter = []\n",
    "\n",
    "    #reading the file\n",
    "    file = open(\"/home/joao/Documentos/LC/filters/\"+path)\n",
    "    lines = file.readlines()\n",
    "    file.close()\n",
    "\n",
    "    for line in lines:\n",
    "        if line.startswith('#'): continue\n",
    "        co=line.rstrip().replace('INDEF','Nan').split()\n",
    "\n",
    "        y_filter.append(co[0])\n",
    "        z_filter.append(co[1])\n",
    "\n",
    "    #converting to float\n",
    "    y_filter = np.array(y_filter, dtype=float)\n",
    "    z_filter = np.array(z_filter, dtype=float)\n",
    "\n",
    "    #return a list with the interpolated filter function, minimum and maximum range values of the filter\n",
    "    return interp1d(y_filter, z_filter, kind='cubic'), min(y_filter), max(y_filter)"
   ]
  },
  {
   "cell_type": "code",
   "execution_count": 16,
   "metadata": {},
   "outputs": [],
   "source": [
    "#V-band filter\n",
    "def bandV(path):\n",
    "    #receive the filter path on the folder\n",
    "    \n",
    "    #filter lists\n",
    "    y_filter = []\n",
    "    z_filter = []\n",
    "\n",
    "    #reading the file\n",
    "    file = open(\"/home/joao/Documentos/LC/filters/\"+path)\n",
    "    lines = file.readlines()\n",
    "    file.close()\n",
    "\n",
    "    for line in lines:\n",
    "        if line.startswith('#'): continue\n",
    "        co=line.rstrip().replace('INDEF','Nan').split()\n",
    "\n",
    "        y_filter.append(co[0])\n",
    "        z_filter.append(co[1])\n",
    "\n",
    "    #converting to float\n",
    "    y_filter = np.array(y_filter, dtype=float)\n",
    "    z_filter = np.array(z_filter, dtype=float)\n",
    "\n",
    "    #return a list with the interpolated filter function, minimum and maximum range values of the filter\n",
    "    return interp1d(y_filter, z_filter, kind='cubic'), min(y_filter), max(y_filter)\n"
   ]
  },
  {
   "cell_type": "markdown",
   "metadata": {},
   "source": [
    "## Main function"
   ]
  },
  {
   "cell_type": "code",
   "execution_count": 17,
   "metadata": {},
   "outputs": [],
   "source": [
    "def einterpfun(band):\n",
    "    #receive the band\n",
    "    \n",
    "    #according to the band received calls band-functions and save function filter, min and max value\n",
    "    if band == \"cspb\":\n",
    "        \n",
    "        b_list_func = bandB(filters[0][0])\n",
    "        \n",
    "        f_filter = b_list_func[0] #function\n",
    "        miny = b_list_func[1] #min value\n",
    "        maxy = b_list_func[2] #max value\n",
    "        \n",
    "    if band == \"cspg\":\n",
    "        \n",
    "        g_list_func = bandg(filters[1][0])\n",
    "        \n",
    "        f_filter = g_list_func[0] #function\n",
    "        miny = g_list_func[1] #min value\n",
    "        maxy = g_list_func[2] #max value\n",
    "        \n",
    "    if band == \"cspi\":\n",
    "\n",
    "        i_list_func = bandi(filters[2][0])\n",
    "        \n",
    "        f_filter = i_list_func[0] #function\n",
    "        miny = i_list_func[1] #min value\n",
    "        maxy = i_list_func[2] #max value\n",
    "        \n",
    "    if band == \"cspr\":\n",
    "        \n",
    "        r_list_func = bandr(filters[3][0])\n",
    "        \n",
    "        f_filter = r_list_func[0] #function\n",
    "        miny = r_list_func[1] #min value\n",
    "        maxy = r_list_func[2] #max value\n",
    "        \n",
    "        \n",
    "    if band == \"cspu\":\n",
    "\n",
    "        u_list_func = bandu(filters[4][0])\n",
    "        \n",
    "        f_filter = u_list_func[0] #function\n",
    "        miny = u_list_func[1] #min value\n",
    "        maxy = u_list_func[2] #max value\n",
    "        \n",
    "    if band == \"cspv\":\n",
    "        \n",
    "        v_list_func = bandv(filters[5][0])\n",
    "        \n",
    "        f_filter = v_list_func[0] #function\n",
    "        miny = v_list_func[1] #min value\n",
    "        maxy = v_list_func[2] #max value\n",
    "        \n",
    "    #function wit    \n",
    "    def lightcurvesth(time, miny, maxy):\n",
    "        #receive time, min and max values range of the filter functions\n",
    "\n",
    "        #index of elements of x_m0 equals of the time received\n",
    "        tempindex = [j for j, e in enumerate(x_m0) if e == time]\n",
    "\n",
    "        #selecting wavelength and flux for M0, M1 and M2\n",
    "        y_temp_m0 = []\n",
    "        z_temp_m0 = []\n",
    "        \n",
    "        y_temp_m1 = []\n",
    "        z_temp_m1 = []\n",
    "        \n",
    "        y_temp_m2 = []\n",
    "        z_temp_m2 = []\n",
    "        \n",
    "        for k in range(0,len(tempindex)):\n",
    "\n",
    "            y_temp_m0.append(y_m0[tempindex[k]])\n",
    "            z_temp_m0.append(z_m0[tempindex[k]])\n",
    "            \n",
    "            y_temp_m1.append(y_m1[tempindex[k]])\n",
    "            z_temp_m1.append(z_m1[tempindex[k]])\n",
    "\n",
    "            y_temp_m2.append(y_m2[tempindex[k]])\n",
    "            z_temp_m2.append(z_m2[tempindex[k]])\n",
    "\n",
    "        #1-d interpolation of wavelength and flux at that time for M0\n",
    "        f_m0 = interp1d(y_temp_m0, z_temp_m0, kind='cubic')  \n",
    "\n",
    "        #define a function which is a product between the filter function and 1d interpolation of M0\n",
    "        def S_m0(x): return f_m0(x)*f_filter(x)\n",
    "\n",
    "        #1-d interpolation of wavelength and flux at that time for M1\n",
    "        f_m1 = interp1d(y_temp_m1, z_temp_m1, kind='cubic')  \n",
    "\n",
    "        #define a function which is a product between the filter function and 1d interpolation of M1\n",
    "        def S_m1(x): return f_m1(x)*f_filter(x)\n",
    "\n",
    "        #1-d interpolation of wavelength and flux at that time for M2\n",
    "        f_m2 = interp1d(y_temp_m2, z_temp_m2, kind='cubic')  \n",
    "\n",
    "        #define a function which is a product between the filter function and 1d interpolation of M1\n",
    "        def S_m2(x): return f_m2(x)*f_filter(x)\n",
    "\n",
    "        #return a list of the integrations of this product in the range of min and max for M0, M1 and M2\n",
    "        return integrate.quad(S_m0, miny, maxy)[0], integrate.quad(S_m1, miny, maxy)[0], integrate.quad(S_m2, miny, maxy)[0]\n",
    "\n",
    "    #list of time and integrated flux\n",
    "    x_m0_int = []\n",
    "    z_m0_int = []\n",
    "\n",
    "    x_m1_int = []\n",
    "    z_m1_int = []\n",
    "\n",
    "    x_m2_int = []\n",
    "    z_m2_int = []\n",
    "    \n",
    "    #for each grid time calculate the integration in the filter\n",
    "    for i in range(0, len(x_gr)):\n",
    "        \n",
    "        #calling the lightcurvesth def function\n",
    "        integ_values = lightcurvesth(x_gr[i], miny, maxy)\n",
    "        \n",
    "        x_m0_int.append(x_gr[i])\n",
    "        z_m0_int.append(integ_values[0])\n",
    "        \n",
    "        x_m1_int.append(x_gr[i])\n",
    "        z_m1_int.append(integ_values[1])\n",
    "        \n",
    "        x_m2_int.append(x_gr[i])\n",
    "        z_m2_int.append(integ_values[2])\n",
    "        \n",
    "    #integrated flux functions\n",
    "    integf_m0 = interp1d(x_m0_int, z_m0_int, kind='cubic')  \n",
    "    integf_m1 = interp1d(x_m1_int, z_m1_int, kind='cubic')\n",
    "    integf_m2 = interp1d(x_m2_int, z_m2_int, kind='cubic')\n",
    "    \n",
    "    return integf_m0, integf_m1, integf_m2"
   ]
  },
  {
   "cell_type": "code",
   "execution_count": 18,
   "metadata": {},
   "outputs": [],
   "source": [
    "X_ = np.linspace(-10, 50, 60 + 1)"
   ]
  },
  {
   "cell_type": "code",
   "execution_count": 19,
   "metadata": {
    "scrolled": true
   },
   "outputs": [
    {
     "name": "stderr",
     "output_type": "stream",
     "text": [
      "<ipython-input-17-02f3546a6e80>:101: IntegrationWarning: The maximum number of subdivisions (50) has been achieved.\n",
      "  If increasing the limit yields no improvement it is advised to analyze \n",
      "  the integrand in order to determine the difficulties.  If the position of a \n",
      "  local difficulty can be determined (singularity, discontinuity) one will \n",
      "  probably gain from splitting up the interval and calling the integrator \n",
      "  on the subranges.  Perhaps a special-purpose integrator should be used.\n",
      "  return integrate.quad(S_m0, miny, maxy)[0], integrate.quad(S_m1, miny, maxy)[0], integrate.quad(S_m2, miny, maxy)[0]\n"
     ]
    }
   ],
   "source": [
    "fun = einterpfun('cspi')\n",
    "\n",
    "fun_x0 = fun[0](X_)\n",
    "fun_x1 = fun[1](X_)\n",
    "fun_x2 = fun[2](X_)"
   ]
  },
  {
   "cell_type": "code",
   "execution_count": 20,
   "metadata": {},
   "outputs": [],
   "source": [
    "save_path = \"/home/joao/Documentos/LC/integratedfunctions/\""
   ]
  },
  {
   "cell_type": "code",
   "execution_count": 21,
   "metadata": {},
   "outputs": [],
   "source": [
    "\n",
    "table = []\n",
    "for l in range(0,len(fun_x0)):\n",
    "    table.append((fun_x0[l], fun_x1[l], fun_x2[l]))\n"
   ]
  },
  {
   "cell_type": "code",
   "execution_count": 22,
   "metadata": {},
   "outputs": [],
   "source": [
    "name_of_file = \"cspi\"\n",
    "\n",
    "completeName = os.path.join(save_path, name_of_file+\".dat\")      \n",
    "\n",
    "f = open(completeName, 'w')               \n",
    "#f.write(header + \"\\n\")\n",
    "'''\n",
    "for i in range(0,len(fun_x0)):\n",
    "    \n",
    "    f.write(str(fun_x0[i])+ \"\\n\")\n",
    "'''\n",
    "f.write(tabulate(table, tablefmt=\"plain\"))\n",
    "f.close()"
   ]
  },
  {
   "cell_type": "code",
   "execution_count": null,
   "metadata": {},
   "outputs": [],
   "source": []
  }
 ],
 "metadata": {
  "kernelspec": {
   "display_name": "Python 3",
   "language": "python",
   "name": "python3"
  },
  "language_info": {
   "codemirror_mode": {
    "name": "ipython",
    "version": 3
   },
   "file_extension": ".py",
   "mimetype": "text/x-python",
   "name": "python",
   "nbconvert_exporter": "python",
   "pygments_lexer": "ipython3",
   "version": "3.8.2"
  }
 },
 "nbformat": 4,
 "nbformat_minor": 4
}
