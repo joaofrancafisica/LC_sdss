{
 "cells": [
  {
   "cell_type": "code",
   "execution_count": 1,
   "metadata": {},
   "outputs": [],
   "source": [
    "import matplotlib.pyplot as plt\n",
    "import numpy as np\n",
    "import os.path \n",
    "from tabulate import tabulate\n",
    "from sklearn.gaussian_process import GaussianProcessRegressor\n",
    "from sklearn.gaussian_process.kernels import RBF, WhiteKernel\n",
    "import sncosmo"
   ]
  },
  {
   "cell_type": "code",
   "execution_count": 2,
   "metadata": {},
   "outputs": [],
   "source": [
    "save_path = '/home/joao/Documentos/lcf_sdss/'\n",
    "\n",
    "table = []"
   ]
  },
  {
   "cell_type": "code",
   "execution_count": 3,
   "metadata": {},
   "outputs": [],
   "source": [
    "x_gr = np.linspace(-10, 50, 60 + 1)"
   ]
  },
  {
   "cell_type": "code",
   "execution_count": 4,
   "metadata": {},
   "outputs": [],
   "source": [
    "kernel = 0.5 * (RBF(length_scale=5, length_scale_bounds=(1, 10)) + WhiteKernel(noise_level=0.1, noise_level_bounds=(1e-5,0.5)))"
   ]
  },
  {
   "cell_type": "code",
   "execution_count": 5,
   "metadata": {},
   "outputs": [],
   "source": [
    "X_ = np.linspace(-10, 50, 610)"
   ]
  },
  {
   "cell_type": "code",
   "execution_count": 6,
   "metadata": {},
   "outputs": [],
   "source": [
    "ab = sncosmo.get_magsystem('ab')"
   ]
  },
  {
   "cell_type": "code",
   "execution_count": 7,
   "metadata": {},
   "outputs": [
    {
     "name": "stdout",
     "output_type": "stream",
     "text": [
      "0.11819\n"
     ]
    }
   ],
   "source": [
    "#time, flux, flux error and bands\n",
    "x_dat = []\n",
    "z_dat = []\n",
    "z_dat_error = []\n",
    "bands = []\n",
    "zeropoint = []\n",
    "\n",
    "#reading the file\n",
    "file = open(\"data/SN2561.snphot-5.04.sum\")\n",
    "lines = file.readlines()\n",
    "file.close()\n",
    "\n",
    "for line in lines:\n",
    "    if line.startswith('#'): continue\n",
    "    co=line.rstrip().replace('INDEF','Nan').split()\n",
    "\n",
    "    x_dat.append(co[1])\n",
    "    z_dat.append(co[7])\n",
    "    z_dat_error.append(co[8])\n",
    "    bands.append(co[2])\n",
    "    zeropoint.append(\"0\")\n",
    "\n",
    "redshift = float(lines[1][5:-31])\n",
    "print(redshift)\n",
    "    \n",
    "x_dat = [float(i) for i in x_dat]\n",
    "z_dat = [float(i) for i in z_dat]\n",
    "z_dat_error = [float(i) for i in z_dat_error]\n",
    "zeropoint = [float(i) for i in zeropoint]"
   ]
  },
  {
   "cell_type": "code",
   "execution_count": 8,
   "metadata": {},
   "outputs": [],
   "source": [
    "thbands = ['sdssu', 'sdssg', 'sdssr', 'sdssi']"
   ]
  },
  {
   "cell_type": "code",
   "execution_count": 9,
   "metadata": {},
   "outputs": [],
   "source": [
    "for i in range(0,len(bands)):\n",
    "    \n",
    "    if bands[i] == \"0\":\n",
    "        \n",
    "        bands[i] = \"sdssu\"\n",
    "        \n",
    "    if bands[i] == \"1\":\n",
    "        \n",
    "        bands[i] = \"sdssg\"\n",
    "        \n",
    "    if bands[i] == \"2\":\n",
    "        \n",
    "        bands[i] = \"sdssr\"\n",
    "        \n",
    "    if bands[i] == \"3\":\n",
    "        \n",
    "        bands[i] = \"sdssi\""
   ]
  },
  {
   "cell_type": "code",
   "execution_count": 10,
   "metadata": {},
   "outputs": [
    {
     "name": "stdout",
     "output_type": "stream",
     "text": [
      "87\n",
      "122\n",
      "134\n",
      "119\n"
     ]
    }
   ],
   "source": [
    "for ii in range(0,len(thbands)):\n",
    "    \n",
    "    x = []\n",
    "    z = []\n",
    "    ez = []\n",
    "    zp = []\n",
    "\n",
    "    for i in range(0,len(bands)):\n",
    "\n",
    "        if bands[i] == thbands[ii]:\n",
    "\n",
    "            x.append(x_dat[i]*(1+redshift))\n",
    "            z.append(z_dat[i]*(1+redshift)**3)\n",
    "            ez.append(z_dat_error[i]*(1+redshift)**3)\n",
    "            zp.append(zeropoint[i])\n",
    "\n",
    "    x_temp = []\n",
    "    \n",
    "    for i in range(0,len(x)):\n",
    "        \n",
    "        x_temp.append([x[i]])\n",
    "        \n",
    "    X_data = np.linspace(min(x), max(x), 610)\n",
    "    \n",
    "    gp_ = GaussianProcessRegressor(kernel=kernel, alpha=0.0).fit(x_temp, z)\n",
    "    y_mean = gp_.predict(X_data[:, np.newaxis])    \n",
    "    \n",
    "    pos_max = y_mean.tolist().index(max(y_mean))\n",
    "    print(pos_max)\n",
    "    t0_max = X_data[pos_max]\n",
    "\n",
    "    nz = []\n",
    "    nez = []\n",
    "    nband = []\n",
    "    nzp = []\n",
    "    nx = []\n",
    "\n",
    "    for i in range(0,len(x)):\n",
    "\n",
    "        if -5 < x[i] - t0_max < 45:\n",
    "        \n",
    "            nx.append(x[i]/(1+redshift))\n",
    "            nz.append(z[i]/(1+redshift)**3)\n",
    "            nez.append(ez[i]/(1+redshift)**3)\n",
    "            nband.append(thbands[ii])\n",
    "            nzp.append(zp[i])\n",
    "\n",
    "        \n",
    "    \n",
    "    for i in range(0, len(nz)):\n",
    "        \n",
    "        if nband[i] == \"sdssu\":\n",
    "        \n",
    "            nz[i] = nz[i]*(10**(-3))*ab.zpbandflux('sdssu')/3631\n",
    "            nez[i] = nez[i]*(10**(-3))*ab.zpbandflux('sdssu')/3631\n",
    "            \n",
    "        if nband[i] == \"sdssg\":\n",
    "        \n",
    "            nz[i] = nz[i]*(10**(-3))*ab.zpbandflux('sdssg')/3631\n",
    "            nez[i] = nez[i]*(10**(-3))*ab.zpbandflux('sdssg')/3631\n",
    "            \n",
    "        if nband[i] == \"sdssr\":\n",
    "        \n",
    "            nz[i] = nz[i]*(10**(-3))*ab.zpbandflux('sdssr')/3631\n",
    "            nez[i] = nez[i]*(10**(-3))*ab.zpbandflux('sdssr')/3631        \n",
    "            \n",
    "        if nband[i] == \"sdssi\":\n",
    "        \n",
    "            nz[i] = nz[i]*(10**(-3))*ab.zpbandflux('sdssi')/3631 \n",
    "            nez[i] = nez[i]*(10**(-3))*ab.zpbandflux('sdssi')/3631 \n",
    "\n",
    "    for i in range(0,len(nx) ):\n",
    "\n",
    "        table.append((nx[i], nband[i], nz[i], nez[i], nzp[i], \"ab\", redshift))\n",
    "\n",
    "    \n",
    " "
   ]
  },
  {
   "cell_type": "code",
   "execution_count": 11,
   "metadata": {},
   "outputs": [
    {
     "data": {
      "text/plain": [
       "59973.33100834295"
      ]
     },
     "execution_count": 11,
     "metadata": {},
     "output_type": "execute_result"
    }
   ],
   "source": [
    "X_data[87]"
   ]
  },
  {
   "cell_type": "code",
   "execution_count": 12,
   "metadata": {},
   "outputs": [],
   "source": [
    "name_of_file = \"SN2561\"\n",
    "\n",
    "completeName = os.path.join(save_path, name_of_file+\".txt\")    \n",
    "\n",
    "header = \"#time    band  flux        fluxerr      zp     zpsys redshift\"\n",
    "\n",
    "f = open(completeName, 'w')               \n",
    "f.write(header + \"\\n\")\n",
    "f.write(tabulate(table, tablefmt=\"plain\"))\n",
    "f.close()"
   ]
  },
  {
   "cell_type": "code",
   "execution_count": 13,
   "metadata": {},
   "outputs": [
    {
     "data": {
      "text/plain": [
       "0.0008663038651062273"
      ]
     },
     "execution_count": 13,
     "metadata": {},
     "output_type": "execute_result"
    }
   ],
   "source": [
    "ab.band_mag_to_flux(22, \"sdssg\")"
   ]
  },
  {
   "cell_type": "code",
   "execution_count": null,
   "metadata": {},
   "outputs": [],
   "source": []
  }
 ],
 "metadata": {
  "kernelspec": {
   "display_name": "Python 3",
   "language": "python",
   "name": "python3"
  },
  "language_info": {
   "codemirror_mode": {
    "name": "ipython",
    "version": 3
   },
   "file_extension": ".py",
   "mimetype": "text/x-python",
   "name": "python",
   "nbconvert_exporter": "python",
   "pygments_lexer": "ipython3",
   "version": "3.8.2"
  }
 },
 "nbformat": 4,
 "nbformat_minor": 4
}
