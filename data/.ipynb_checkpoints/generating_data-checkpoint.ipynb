{
 "cells": [
  {
   "cell_type": "code",
   "execution_count": 1,
   "metadata": {},
   "outputs": [],
   "source": [
    "import matplotlib.pyplot as plt\n",
    "import numpy as np\n",
    "import os.path \n",
    "from tabulate import tabulate"
   ]
  },
  {
   "cell_type": "code",
   "execution_count": 2,
   "metadata": {},
   "outputs": [],
   "source": [
    "#time, flux, flux error and bands\n",
    "nome = []\n",
    "x = []\n",
    "z = []\n",
    "zerr = []\n",
    "band = []\n",
    "\n",
    "#reading the file\n",
    "file = open(\"SN_photo.dat\")\n",
    "lines = file.readlines()\n",
    "file.close()\n",
    "\n",
    "for line in lines:\n",
    "    if line.startswith('#'): continue\n",
    "    co=line.rstrip().replace('INDEF','Nan').split()\n",
    "\n",
    "    nome.append(co[0])\n",
    "    band.append(co[1])\n",
    "    x.append(co[2])\n",
    "    z.append(co[3])\n",
    "    zerr.append(co[4])\n",
    "    \n",
    "x = [float(i) for i in x]\n",
    "z = [float(i) for i in z]\n",
    "zerr = [float(i) for i in zerr]"
   ]
  },
  {
   "cell_type": "code",
   "execution_count": 3,
   "metadata": {},
   "outputs": [],
   "source": [
    "file = open(\"SN2004eo_snpy.txt\")\n",
    "lines = file.readlines()\n",
    "file.close()"
   ]
  },
  {
   "cell_type": "code",
   "execution_count": 4,
   "metadata": {},
   "outputs": [],
   "source": [
    "redshift = float(lines[0][9:-21])"
   ]
  },
  {
   "cell_type": "code",
   "execution_count": 5,
   "metadata": {},
   "outputs": [],
   "source": [
    "#cspb cspg cspr cspi\n",
    "zeropoint = [14.529, 15.271, 14.975, 14.767]"
   ]
  },
  {
   "cell_type": "code",
   "execution_count": 6,
   "metadata": {},
   "outputs": [],
   "source": [
    "SN_x = []\n",
    "SN_z = []\n",
    "SN_zerr = []\n",
    "SN_band = []"
   ]
  },
  {
   "cell_type": "code",
   "execution_count": 7,
   "metadata": {},
   "outputs": [],
   "source": [
    "for i in range(0, len(nome)):\n",
    "    \n",
    "    if nome[i] == \"SN2004eo\":\n",
    "        \n",
    "        if band[i] == \"B\":\n",
    "        \n",
    "            SN_x.append(x[i])\n",
    "            SN_z.append(z[i])\n",
    "            SN_zerr.append(zerr[i])\n",
    "            SN_band.append(\"cspb\")\n",
    "        \n",
    "        if band[i] == \"g\":\n",
    "            \n",
    "            SN_x.append(x[i])\n",
    "            SN_z.append(z[i])\n",
    "            SN_zerr.append(zerr[i])\n",
    "            SN_band.append(\"cspg\")\n",
    "            \n",
    "        if band[i] == \"r\":\n",
    "\n",
    "            SN_x.append(x[i])\n",
    "            SN_z.append(z[i])\n",
    "            SN_zerr.append(zerr[i])\n",
    "            SN_band.append(\"cspr\")\n",
    "            \n",
    "        if band[i] == \"i\":\n",
    "            \n",
    "            SN_x.append(x[i])\n",
    "            SN_z.append(z[i])\n",
    "            SN_zerr.append(zerr[i])\n",
    "            SN_band.append(\"cspi\")"
   ]
  },
  {
   "cell_type": "code",
   "execution_count": 8,
   "metadata": {},
   "outputs": [],
   "source": [
    "conv_SN_z = []\n",
    "conv_SN_zerr = []"
   ]
  },
  {
   "cell_type": "code",
   "execution_count": 9,
   "metadata": {},
   "outputs": [],
   "source": [
    "for i in range(0, len(SN_band)):\n",
    "    \n",
    "    if SN_band[i] == \"cspb\":\n",
    "        \n",
    "        flux_value = 10**((zeropoint[0] - SN_z[i])/2.5)\n",
    "        conv_SN_z.append(flux_value)\n",
    "        conv_SN_zerr.append((np.log(10)/2.5)*flux_value*SN_zerr[i])\n",
    "        \n",
    "        \n",
    "    if SN_band[i] == \"cspg\":\n",
    "        \n",
    "        flux_value = 10**((zeropoint[1] - SN_z[i])/2.5)\n",
    "        conv_SN_z.append(flux_value)\n",
    "        conv_SN_zerr.append((np.log(10)/2.5)*flux_value*SN_zerr[i])\n",
    "        \n",
    "    if SN_band[i] == \"cspr\":\n",
    "        \n",
    "        flux_value = 10**((zeropoint[2] - SN_z[i])/2.5)\n",
    "        conv_SN_z.append(flux_value)\n",
    "        conv_SN_zerr.append((np.log(10)/2.5)*flux_value*SN_zerr[i])\n",
    "        \n",
    "    if SN_band[i] == \"cspi\":\n",
    "        \n",
    "        flux_value = 10**((zeropoint[3] - SN_z[i])/2.5)\n",
    "        conv_SN_z.append(flux_value)\n",
    "        conv_SN_zerr.append((np.log(10)/2.5)*flux_value*SN_zerr[i])"
   ]
  },
  {
   "cell_type": "code",
   "execution_count": 14,
   "metadata": {},
   "outputs": [],
   "source": [
    "table = []"
   ]
  },
  {
   "cell_type": "code",
   "execution_count": 15,
   "metadata": {},
   "outputs": [],
   "source": [
    "for i in range(0,len(SN_x)):\n",
    "\n",
    "    table.append((SN_x[i], SN_band[i], conv_SN_z[i], conv_SN_zerr[i], 1, \"csp\", redshift))"
   ]
  },
  {
   "cell_type": "code",
   "execution_count": 16,
   "metadata": {},
   "outputs": [],
   "source": [
    "save_path = '/home/joao/Documentos/LC/'"
   ]
  },
  {
   "cell_type": "code",
   "execution_count": 17,
   "metadata": {},
   "outputs": [
    {
     "ename": "NameError",
     "evalue": "name 'os' is not defined",
     "output_type": "error",
     "traceback": [
      "\u001b[0;31m---------------------------------------------------------------------------\u001b[0m",
      "\u001b[0;31mNameError\u001b[0m                                 Traceback (most recent call last)",
      "\u001b[0;32m<ipython-input-17-59781f656ca7>\u001b[0m in \u001b[0;36m<module>\u001b[0;34m\u001b[0m\n\u001b[1;32m      1\u001b[0m \u001b[0mname_of_file\u001b[0m \u001b[0;34m=\u001b[0m \u001b[0;34m\"SN2004eo_convertido\"\u001b[0m\u001b[0;34m\u001b[0m\u001b[0;34m\u001b[0m\u001b[0m\n\u001b[1;32m      2\u001b[0m \u001b[0;34m\u001b[0m\u001b[0m\n\u001b[0;32m----> 3\u001b[0;31m \u001b[0mcompleteName\u001b[0m \u001b[0;34m=\u001b[0m \u001b[0mos\u001b[0m\u001b[0;34m.\u001b[0m\u001b[0mpath\u001b[0m\u001b[0;34m.\u001b[0m\u001b[0mjoin\u001b[0m\u001b[0;34m(\u001b[0m\u001b[0msave_path\u001b[0m\u001b[0;34m,\u001b[0m \u001b[0mname_of_file\u001b[0m\u001b[0;34m+\u001b[0m\u001b[0;34m\".txt\"\u001b[0m\u001b[0;34m)\u001b[0m\u001b[0;34m\u001b[0m\u001b[0;34m\u001b[0m\u001b[0m\n\u001b[0m\u001b[1;32m      4\u001b[0m \u001b[0;34m\u001b[0m\u001b[0m\n\u001b[1;32m      5\u001b[0m \u001b[0mheader\u001b[0m \u001b[0;34m=\u001b[0m \u001b[0;34m\"#time    band  flux        fluxerr      zp     zpsys redshift\"\u001b[0m\u001b[0;34m\u001b[0m\u001b[0;34m\u001b[0m\u001b[0m\n",
      "\u001b[0;31mNameError\u001b[0m: name 'os' is not defined"
     ]
    }
   ],
   "source": [
    "name_of_file = \"SN2004eo_convertido\"\n",
    "\n",
    "completeName = os.path.join(save_path, name_of_file+\".txt\")    \n",
    "\n",
    "header = \"#time    band  flux        fluxerr      zp     zpsys redshift\"\n",
    "\n",
    "f = open(completeName, 'w')               \n",
    "f.write(header + \"\\n\")\n",
    "f.write(tabulate(table, tablefmt=\"plain\"))\n",
    "f.close()"
   ]
  },
  {
   "cell_type": "code",
   "execution_count": null,
   "metadata": {},
   "outputs": [],
   "source": []
  }
 ],
 "metadata": {
  "kernelspec": {
   "display_name": "Python 3",
   "language": "python",
   "name": "python3"
  },
  "language_info": {
   "codemirror_mode": {
    "name": "ipython",
    "version": 3
   },
   "file_extension": ".py",
   "mimetype": "text/x-python",
   "name": "python",
   "nbconvert_exporter": "python",
   "pygments_lexer": "ipython3",
   "version": "3.8.2"
  }
 },
 "nbformat": 4,
 "nbformat_minor": 4
}
